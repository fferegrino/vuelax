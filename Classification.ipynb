{
 "cells": [
  {
   "cell_type": "code",
   "execution_count": null,
   "metadata": {},
   "outputs": [],
   "source": [
    "import pandas as pd\n",
    "from m16_mlutils.datatools.evaluation import eval_summary\n",
    "from m16_mlutils.pipeline import CategoryEncoder\n",
    "from numpy.random import seed\n",
    "from sklearn.dummy import DummyClassifier\n",
    "from sklearn.ensemble import RandomForestClassifier\n",
    "from sklearn.externals import joblib\n",
    "from sklearn.linear_model import LogisticRegression\n",
    "from sklearn.model_selection import GridSearchCV\n",
    "from sklearn.model_selection import train_test_split\n",
    "from sklearn.svm import LinearSVC\n",
    "\n",
    "from dataset import load_training_data\n",
    "\n",
    "seed(42)"
   ]
  },
  {
   "cell_type": "code",
   "execution_count": null,
   "metadata": {},
   "outputs": [],
   "source": [
    "training_set = load_training_data()\n",
    "training_set.head()\n",
    "test_set = training_set[pd.isna(training_set['real_label'])]\n",
    "training_set = training_set[~pd.isna(training_set['real_label'])]\n",
    "print(len(training_set))\n",
    "training_set.head()"
   ]
  },
  {
   "cell_type": "markdown",
   "metadata": {},
   "source": [
    "## Load data transformation pipeline"
   ]
  },
  {
   "cell_type": "code",
   "execution_count": null,
   "metadata": {},
   "outputs": [],
   "source": [
    "def get_pipeline():\n",
    "    pipeline = joblib.load('models/features_pipeline.joblib') \n",
    "    return pipeline"
   ]
  },
  {
   "cell_type": "markdown",
   "metadata": {},
   "source": [
    "## Split data"
   ]
  },
  {
   "cell_type": "code",
   "execution_count": null,
   "metadata": {},
   "outputs": [],
   "source": [
    "X_train, X_test, y_train, y_test = train_test_split(training_set, training_set['real_label'])\n",
    "X_test.head()"
   ]
  },
  {
   "cell_type": "code",
   "execution_count": null,
   "metadata": {},
   "outputs": [
    {
     "name": "stdout",
     "output_type": "stream",
     "text": [
      "Train 1977\n",
      "Test 659\n"
     ]
    }
   ],
   "source": [
    "# preserve\n",
    "print('Train', len(X_train))\n",
    "print('Test', len(X_test))"
   ]
  },
  {
   "cell_type": "markdown",
   "metadata": {},
   "source": [
    "# Classify"
   ]
  },
  {
   "cell_type": "markdown",
   "metadata": {},
   "source": [
    "### Baseline with Dummy classifiers"
   ]
  },
  {
   "cell_type": "code",
   "execution_count": null,
   "metadata": {},
   "outputs": [
    {
     "name": "stdout",
     "output_type": "stream",
     "text": [
      "accuracy     0.555387\n",
      "precision    0.188850\n",
      "recall       0.187980\n",
      "f1           0.186503\n",
      "dtype: float64\n",
      "\n",
      "              precision    recall  f1-score   support\n",
      "\n",
      "           d       0.11      0.14      0.13        49\n",
      "           f       0.00      0.00      0.00        10\n",
      "           n       0.73      0.74      0.74       472\n",
      "           o       0.07      0.07      0.07        60\n",
      "           p       0.14      0.08      0.10        38\n",
      "           s       0.07      0.10      0.08        30\n",
      "\n",
      "   micro avg       0.56      0.56      0.56       659\n",
      "   macro avg       0.19      0.19      0.19       659\n",
      "weighted avg       0.55      0.56      0.55       659\n",
      "\n"
     ]
    }
   ],
   "source": [
    "# preserve\n",
    "dummy = DummyClassifier(strategy='stratified')\n",
    "\n",
    "pipeline = get_pipeline()\n",
    "\n",
    "pipeline.steps.append(('classify', dummy))\n",
    "\n",
    "pipeline.fit(X_train, y_train)\n",
    "y_pred = pipeline.predict(X_test)\n",
    "\n",
    "\n",
    "metrics, summary, cm = eval_summary(y_pred, y_test)\n",
    "\n",
    "print(metrics)\n",
    "print()\n",
    "print(summary)"
   ]
  },
  {
   "cell_type": "code",
   "execution_count": null,
   "metadata": {},
   "outputs": [],
   "source": [
    "pipeline = get_pipeline()\n",
    "\n",
    "pipeline.steps.append(('classify', None))\n",
    "\n",
    "\n",
    "params = {\n",
    "    # Different classifiers:\n",
    "    'classify': [LogisticRegression(C=10), RandomForestClassifier(random_state=42), LinearSVC()],\n",
    "}\n",
    "\n",
    "grid = GridSearchCV(pipeline, cv=4, n_jobs=-1, param_grid=params, verbose=1, scoring='f1_macro')\n",
    "\n",
    "grid.fit(X_train, y_train)"
   ]
  },
  {
   "cell_type": "code",
   "execution_count": null,
   "metadata": {},
   "outputs": [],
   "source": [
    "print(grid.best_score_)\n",
    "print()\n",
    "print(grid.best_params_)"
   ]
  },
  {
   "cell_type": "code",
   "execution_count": null,
   "metadata": {},
   "outputs": [
    {
     "name": "stdout",
     "output_type": "stream",
     "text": [
      "accuracy     0.807284\n",
      "precision    0.376242\n",
      "recall       0.618119\n",
      "f1           0.403633\n",
      "dtype: float64\n",
      "\n",
      "              precision    recall  f1-score   support\n",
      "\n",
      "           d       0.43      0.70      0.53        37\n",
      "           f       0.17      0.50      0.25         2\n",
      "           n       0.99      0.83      0.90       569\n",
      "           o       0.63      0.68      0.65        50\n",
      "           p       0.05      1.00      0.09         1\n",
      "           s       0.00      0.00      0.00         0\n",
      "\n",
      "   micro avg       0.81      0.81      0.81       659\n",
      "   macro avg       0.38      0.62      0.40       659\n",
      "weighted avg       0.93      0.81      0.86       659\n",
      "\n"
     ]
    },
    {
     "name": "stderr",
     "output_type": "stream",
     "text": [
      "/home/aferegrino/.local/share/virtualenvs/vuelax-LRpdHWq1/lib/python3.6/site-packages/sklearn/metrics/classification.py:1145: UndefinedMetricWarning: Recall is ill-defined and being set to 0.0 in labels with no true samples.\n",
      "  'recall', 'true', average, warn_for)\n",
      "/home/aferegrino/.local/share/virtualenvs/vuelax-LRpdHWq1/lib/python3.6/site-packages/sklearn/metrics/classification.py:1145: UndefinedMetricWarning: F-score is ill-defined and being set to 0.0 in labels with no true samples.\n",
      "  'recall', 'true', average, warn_for)\n",
      "/home/aferegrino/.local/share/virtualenvs/vuelax-LRpdHWq1/lib/python3.6/site-packages/sklearn/metrics/classification.py:1145: UndefinedMetricWarning: Recall and F-score are ill-defined and being set to 0.0 in labels with no true samples.\n",
      "  'recall', 'true', average, warn_for)\n"
     ]
    }
   ],
   "source": [
    "# preserve\n",
    "estimator = grid.best_estimator_\n",
    "y_pred = estimator.predict(X_test)\n",
    "\n",
    "metrics, summary, cm = eval_summary(y_pred, y_test)\n",
    "\n",
    "print(metrics)\n",
    "print()\n",
    "print(summary)"
   ]
  },
  {
   "cell_type": "markdown",
   "metadata": {},
   "source": [
    "## Best estimator... for now"
   ]
  },
  {
   "cell_type": "code",
   "execution_count": null,
   "metadata": {},
   "outputs": [],
   "source": [
    "best_classifier = RandomForestClassifier(bootstrap=True, class_weight=None, criterion='gini',\n",
    "            max_depth=None, max_features='auto', max_leaf_nodes=None,\n",
    "            min_impurity_decrease=0.0, min_impurity_split=None,\n",
    "            min_samples_leaf=1, min_samples_split=2,\n",
    "            min_weight_fraction_leaf=0.0, n_estimators=10, n_jobs=None,\n",
    "            oob_score=False, random_state=42, verbose=0, warm_start=False)\n",
    "best_pipeline = get_pipeline()\n",
    "best_pipeline.steps.append(('clf', best_classifier))"
   ]
  },
  {
   "cell_type": "code",
   "execution_count": null,
   "metadata": {},
   "outputs": [],
   "source": [
    "best_pipeline.fit(X_train, y_train)\n",
    "y_pred = best_pipeline.predict(X_test)\n",
    "\n",
    "metrics, summary, cm = eval_summary(y_test, y_pred)\n",
    "\n",
    "print(metrics)\n",
    "print(summary)"
   ]
  },
  {
   "cell_type": "code",
   "execution_count": null,
   "metadata": {},
   "outputs": [],
   "source": [
    "joblib.dump(best_pipeline, 'models/classify_pipeline.joblib') "
   ]
  },
  {
   "cell_type": "code",
   "execution_count": null,
   "metadata": {},
   "outputs": [],
   "source": []
  }
 ],
 "metadata": {
  "kernelspec": {
   "display_name": "Python 3",
   "language": "python",
   "name": "python3"
  },
  "language_info": {
   "codemirror_mode": {
    "name": "ipython",
    "version": 3
   },
   "file_extension": ".py",
   "mimetype": "text/x-python",
   "name": "python",
   "nbconvert_exporter": "python",
   "pygments_lexer": "ipython3",
   "version": "3.6.5"
  }
 },
 "nbformat": 4,
 "nbformat_minor": 2
}
