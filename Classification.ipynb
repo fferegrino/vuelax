{
 "cells": [
  {
   "cell_type": "code",
   "execution_count": null,
   "metadata": {},
   "outputs": [],
   "source": [
    "import pandas as pd\n",
    "from m16_mlutils.datatools.evaluation import eval_summary\n",
    "from m16_mlutils.pipeline import CategoryEncoder\n",
    "from numpy.random import seed\n",
    "from sklearn.dummy import DummyClassifier\n",
    "from sklearn.ensemble import RandomForestClassifier\n",
    "from sklearn.externals import joblib\n",
    "from sklearn.linear_model import LogisticRegression\n",
    "from sklearn.model_selection import GridSearchCV\n",
    "from sklearn.model_selection import train_test_split\n",
    "from sklearn.svm import LinearSVC\n",
    "\n",
    "seed(42)"
   ]
  },
  {
   "cell_type": "code",
   "execution_count": null,
   "metadata": {},
   "outputs": [],
   "source": [
    "training_set = pd.read_csv('data/i__training_data.csv', index_col=None)\n",
    "training_set.head()\n",
    "test_set = training_set[pd.isna(training_set['real_label'])]\n",
    "training_set = training_set[~pd.isna(training_set['real_label'])]\n",
    "print(len(training_set))\n",
    "training_set.head()"
   ]
  },
  {
   "cell_type": "markdown",
   "metadata": {},
   "source": [
    "## Load data transformation pipeline"
   ]
  },
  {
   "cell_type": "code",
   "execution_count": null,
   "metadata": {},
   "outputs": [],
   "source": [
    "def get_pipeline():\n",
    "    pipeline = joblib.load('models/features_pipeline.joblib') \n",
    "    return pipeline"
   ]
  },
  {
   "cell_type": "markdown",
   "metadata": {},
   "source": [
    "## Split data"
   ]
  },
  {
   "cell_type": "code",
   "execution_count": null,
   "metadata": {},
   "outputs": [],
   "source": [
    "X_train, X_test, y_train, y_test = train_test_split(training_set, training_set['real_label'])\n",
    "X_test.head()"
   ]
  },
  {
   "cell_type": "code",
   "execution_count": null,
   "metadata": {},
   "outputs": [
    {
     "name": "stdout",
     "output_type": "stream",
     "text": [
      "Train 1505\n",
      "Test 502\n"
     ]
    }
   ],
   "source": [
    "# preserve\n",
    "print('Train', len(X_train))\n",
    "print('Test', len(X_test))"
   ]
  },
  {
   "cell_type": "markdown",
   "metadata": {},
   "source": [
    "# Classify"
   ]
  },
  {
   "cell_type": "markdown",
   "metadata": {},
   "source": [
    "### Baseline with Dummy classifiers"
   ]
  },
  {
   "cell_type": "code",
   "execution_count": null,
   "metadata": {},
   "outputs": [
    {
     "name": "stdout",
     "output_type": "stream",
     "text": [
      "accuracy     0.541833\n",
      "precision    0.176715\n",
      "recall       0.179343\n",
      "f1           0.176688\n",
      "dtype: float64\n",
      "\n",
      "              precision    recall  f1-score   support\n",
      "\n",
      "           d       0.02      0.03      0.03        33\n",
      "           f       0.00      0.00      0.00         7\n",
      "           n       0.73      0.71      0.72       371\n",
      "           o       0.08      0.06      0.07        48\n",
      "           p       0.17      0.18      0.17        22\n",
      "           s       0.05      0.10      0.07        21\n",
      "\n",
      "   micro avg       0.54      0.54      0.54       502\n",
      "   macro avg       0.18      0.18      0.18       502\n",
      "weighted avg       0.56      0.54      0.55       502\n",
      "\n"
     ]
    }
   ],
   "source": [
    "# preserve\n",
    "dummy = DummyClassifier(strategy='stratified')\n",
    "\n",
    "pipeline = get_pipeline()\n",
    "\n",
    "pipeline.steps.append(('classify', dummy))\n",
    "\n",
    "pipeline.fit(X_train, y_train)\n",
    "y_pred = pipeline.predict(X_test)\n",
    "\n",
    "\n",
    "metrics, summary, cm = eval_summary(y_pred, y_test)\n",
    "\n",
    "print(metrics)\n",
    "print()\n",
    "print(summary)"
   ]
  },
  {
   "cell_type": "code",
   "execution_count": null,
   "metadata": {},
   "outputs": [],
   "source": [
    "pipeline = get_pipeline()\n",
    "\n",
    "pipeline.steps.append(('classify', None))\n",
    "\n",
    "\n",
    "params = {\n",
    "    # Different classifiers:\n",
    "    'classify': [LogisticRegression(C=10), RandomForestClassifier(random_state=42), LinearSVC()],\n",
    "}\n",
    "\n",
    "grid = GridSearchCV(pipeline, cv=4, n_jobs=-1, param_grid=params, verbose=1, scoring='f1_macro')\n",
    "\n",
    "grid.fit(X_train, y_train)"
   ]
  },
  {
   "cell_type": "code",
   "execution_count": null,
   "metadata": {},
   "outputs": [],
   "source": [
    "print(grid.best_score_)\n",
    "print()\n",
    "print(grid.best_params_)"
   ]
  },
  {
   "cell_type": "code",
   "execution_count": null,
   "metadata": {},
   "outputs": [
    {
     "name": "stdout",
     "output_type": "stream",
     "text": [
      "accuracy     0.952191\n",
      "precision    0.775605\n",
      "recall       0.861823\n",
      "f1           0.803839\n",
      "dtype: float64\n",
      "\n",
      "              precision    recall  f1-score   support\n",
      "\n",
      "           d       0.85      0.88      0.86        40\n",
      "           f       0.17      0.50      0.25         2\n",
      "           n       0.99      0.96      0.98       369\n",
      "           o       0.81      0.88      0.84        33\n",
      "           p       0.83      0.95      0.89        21\n",
      "           s       1.00      1.00      1.00        37\n",
      "\n",
      "   micro avg       0.95      0.95      0.95       502\n",
      "   macro avg       0.78      0.86      0.80       502\n",
      "weighted avg       0.96      0.95      0.96       502\n",
      "\n"
     ]
    }
   ],
   "source": [
    "# preserve\n",
    "estimator = grid.best_estimator_\n",
    "y_pred = estimator.predict(X_test)\n",
    "\n",
    "metrics, summary, cm = eval_summary(y_pred, y_test)\n",
    "\n",
    "print(metrics)\n",
    "print()\n",
    "print(summary)"
   ]
  },
  {
   "cell_type": "markdown",
   "metadata": {},
   "source": [
    "## Best estimator... for now"
   ]
  },
  {
   "cell_type": "code",
   "execution_count": null,
   "metadata": {},
   "outputs": [],
   "source": [
    "best_classifier = RandomForestClassifier(bootstrap=True, class_weight=None, criterion='gini',\n",
    "            max_depth=None, max_features='auto', max_leaf_nodes=None,\n",
    "            min_impurity_decrease=0.0, min_impurity_split=None,\n",
    "            min_samples_leaf=1, min_samples_split=2,\n",
    "            min_weight_fraction_leaf=0.0, n_estimators=10, n_jobs=None,\n",
    "            oob_score=False, random_state=42, verbose=0, warm_start=False)\n",
    "best_pipeline = get_pipeline()\n",
    "best_pipeline.steps.append(('clf', best_classifier))"
   ]
  },
  {
   "cell_type": "code",
   "execution_count": null,
   "metadata": {},
   "outputs": [],
   "source": [
    "best_pipeline.fit(X_train, y_train)\n",
    "y_pred = best_pipeline.predict(X_test)\n",
    "\n",
    "metrics, summary, cm = eval_summary(y_test, y_pred)\n",
    "\n",
    "print(metrics)\n",
    "print(summary)"
   ]
  },
  {
   "cell_type": "code",
   "execution_count": null,
   "metadata": {},
   "outputs": [],
   "source": [
    "joblib.dump(best_pipeline, 'models/classify_pipeline.joblib') "
   ]
  },
  {
   "cell_type": "code",
   "execution_count": null,
   "metadata": {},
   "outputs": [],
   "source": []
  }
 ],
 "metadata": {
  "kernelspec": {
   "display_name": "Python 3",
   "language": "python",
   "name": "python3"
  },
  "language_info": {
   "codemirror_mode": {
    "name": "ipython",
    "version": 3
   },
   "file_extension": ".py",
   "mimetype": "text/x-python",
   "name": "python",
   "nbconvert_exporter": "python",
   "pygments_lexer": "ipython3",
   "version": "3.6.5"
  }
 },
 "nbformat": 4,
 "nbformat_minor": 2
}
