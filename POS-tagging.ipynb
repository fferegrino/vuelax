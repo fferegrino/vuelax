{
 "cells": [
  {
   "cell_type": "markdown",
   "metadata": {},
   "source": [
    "# Creating a tagger for flight offer phrases\n",
    "### Like this one: \"\u00a1CDMX a Bogot\u00e1 \ud83c\udde8\ud83c\uddf4 $4,659!\""
   ]
  },
  {
   "cell_type": "code",
   "execution_count": null,
   "metadata": {},
   "outputs": [],
   "source": [
    "# libraries\n",
    "import pandas as pd"
   ]
  },
  {
   "cell_type": "code",
   "execution_count": null,
   "metadata": {},
   "outputs": [],
   "source": [
    "# Load dataset:\n",
    "vuelos = pd.read_csv('data/vuelos.csv', index_col=0)\n",
    "with pd.option_context('max_colwidth', 800):\n",
    "    print(vuelos.loc[:100:5][['label']])"
   ]
  },
  {
   "cell_type": "markdown",
   "metadata": {},
   "source": [
    "Most of the offers follow a simple pattern: *Destination - Origin - Price - Extras* while extracting this may seem easy for a regular expression, it is not (see this notebook for reference). \n",
    "\n",
    "The idea is to create a tagger that will be able to extract this information, however, one first tag is to identify the information that we want to extract. Following the pattern described above: \n",
    "\n",
    " - **DST**: Destination \n",
    " - **ORI**: Origin \n",
    " - **PRC**: Price \n",
    " - **EXT**: Extras\n",
    " \n",
    "| Text \t| DST \t| ORI \t| PRC \t| OTH \t|\n",
    "|------\t|-----\t|-----\t|-----\t|-----\t|\n",
    "| \u00a1CUN a Holanda \\$8,885! Sin escala EE.UU | CUN | Holanda | 8,885 | Sin escala EE.UU |   \n",
    "| \u00a1CDMX a Noruega <span>$</span>10,061! (Y agrega 9 noches de hotel por \\$7,890!) | CDMX | Noruega | 10,061 | Y agrega 9 noches de hotel por \\$7,890!| \n",
    "| \u00a1Todo M\u00e9xico a Pisa, Toscana Italia \\$12,915! Sin escala EE.UU (Y por \\$3,975 agrega 13 noches hotel) | M\u00e9xico | Pisa, Toscana Italia | 12,915 | Sin escala EE.UU (Y por \\$3,975 agrega 13 noches hotel) |"
   ]
  },
  {
   "cell_type": "markdown",
   "metadata": {},
   "source": [
    "## Tokenize and POS-tag the dataset \n",
    "We need to generate a *csv* file that we can tag (manually \ud83d\ude28) that consists of:\n",
    "```\n",
    "token1    POS tag    Label\n",
    "token2    POS tag    Label\n",
    "token3    POS tag    Label\n",
    "```\n",
    "\n",
    "Where `Label` will be one of DST, ORI, PRC, OTH and NA and will be manually assigned (again: \ud83d\ude28)"
   ]
  },
  {
   "cell_type": "code",
   "execution_count": null,
   "metadata": {},
   "outputs": [],
   "source": [
    "from nltk.tag.stanford import StanfordPOSTagger\n",
    "\n",
    "spanish_postagger = StanfordPOSTagger('/Users/antonioferegrino/stanford_nlp/'\n",
    "                                      'stanford-postagger-full-2018-02-27/models/spanish-distsim.tagger', \n",
    "                                      '/Users/antonioferegrino/stanford_nlp/'\n",
    "                                      'stanford-postagger-full-2018-02-27/stanford-postagger.jar')\n",
    "\n",
    "print(spanish_postagger.tag('Pepe Pecas pica papas con un pico, con un pico pica papas Pepe Pecas.'.split()))"
   ]
  },
  {
   "cell_type": "code",
   "execution_count": null,
   "metadata": {},
   "outputs": [],
   "source": [
    "from nltk.tokenize import TweetTokenizer\n",
    "tknz = TweetTokenizer()\n",
    "\n",
    "print(tknz.tokenize('\u00a1CUN a Puerto Rico $3,296! (Agrega 3 noches de hotel por $2,778)'))"
   ]
  },
  {
   "cell_type": "code",
   "execution_count": null,
   "metadata": {},
   "outputs": [],
   "source": [
    "import csv\n",
    "out_file = 'data/tags.csv'\n",
    "with open(out_file, 'w') as csvfile:\n",
    "    writer = csv.writer(csvfile, delimiter=',', quoting=csv.QUOTE_MINIMAL)\n",
    "    for label in vuelos['label']:\n",
    "        tags = spanish_postagger.tag(tknz.tokenize(label))\n",
    "        for tagged in tags:\n",
    "            writer.writerow([tagged[0], tagged[1], 'XXXXXX'])\n",
    "        "
   ]
  },
  {
   "cell_type": "code",
   "execution_count": null,
   "metadata": {},
   "outputs": [],
   "source": [
    "for l in vuelos.loc[:100:5][['label']]:\n",
    "    print(l)"
   ]
  },
  {
   "cell_type": "code",
   "execution_count": null,
   "metadata": {},
   "outputs": [],
   "source": []
  }
 ],
 "metadata": {
  "kernelspec": {
   "display_name": "Python 3",
   "language": "python",
   "name": "python3"
  },
  "language_info": {
   "codemirror_mode": {
    "name": "ipython",
    "version": 3
   },
   "file_extension": ".py",
   "mimetype": "text/x-python",
   "name": "python",
   "nbconvert_exporter": "python",
   "pygments_lexer": "ipython3",
   "version": "3.6.6"
  }
 },
 "nbformat": 4,
 "nbformat_minor": 2
}
