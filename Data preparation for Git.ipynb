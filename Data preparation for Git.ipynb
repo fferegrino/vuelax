{
 "cells": [
  {
   "cell_type": "code",
   "execution_count": null,
   "metadata": {},
   "outputs": [],
   "source": [
    "import csv\n",
    "\n",
    "\n",
    "break_every = 200\n",
    "\n",
    "\n",
    "current_offer_id = -1\n",
    "num_offers = 0\n",
    "current_file_id = 0\n",
    "offer_file = None\n",
    "with open('data/i__training_data.csv', 'r', encoding='utf-8-sig') as r:\n",
    "    reader = csv.reader(r)\n",
    "    headers = next(reader)\n",
    "    \n",
    "    for line in reader:\n",
    "        offer_id = int(line[0])\n",
    "\n",
    "        if current_offer_id != offer_id:\n",
    "            if num_offers % break_every == 0:\n",
    "                if offer_file is not None:\n",
    "                    offer_file.close()\n",
    "                offer_file = open(f'data/offers-{current_file_id:04}.csv', 'w', encoding='utf-8-sig')\n",
    "                writer = csv.writer(offer_file)\n",
    "                writer.writerow(headers)\n",
    "                current_file_id += 1\n",
    "            \n",
    "        writer.writerow(line)\n",
    "        \n",
    "        if current_offer_id != offer_id:\n",
    "            num_offers += 1\n",
    "        \n",
    "        \n",
    "        current_offer_id = offer_id\n",
    "        \n",
    "\n",
    "if offer_file is not None:\n",
    "    offer_file.close()\n",
    "\n",
    "print(num_offers)"
   ]
  },
  {
   "cell_type": "code",
   "execution_count": null,
   "metadata": {},
   "outputs": [],
   "source": []
  }
 ],
 "metadata": {
  "kernelspec": {
   "display_name": "Python 3",
   "language": "python",
   "name": "python3"
  },
  "language_info": {
   "codemirror_mode": {
    "name": "ipython",
    "version": 3
   },
   "file_extension": ".py",
   "mimetype": "text/x-python",
   "name": "python",
   "nbconvert_exporter": "python",
   "pygments_lexer": "ipython3",
   "version": "3.6.5"
  }
 },
 "nbformat": 4,
 "nbformat_minor": 2
}
