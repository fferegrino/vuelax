{
 "cells": [
  {
   "cell_type": "code",
   "execution_count": null,
   "metadata": {},
   "outputs": [],
   "source": [
    "import pandas as pd\n",
    "from glob import glob\n",
    "import numpy as np\n",
    "import csv"
   ]
  },
  {
   "cell_type": "code",
   "execution_count": null,
   "metadata": {},
   "outputs": [],
   "source": [
    "break_every = 200\n",
    "\n",
    "current_offer_id = -1\n",
    "num_offers = 0\n",
    "current_file_id = 0\n",
    "offer_file = None\n",
    "with open('data/i__training_data.csv', 'r', encoding='utf-8-sig') as r:\n",
    "    reader = csv.reader(r)\n",
    "    headers = next(reader)\n",
    "    \n",
    "    for line in reader:\n",
    "        offer_id = int(line[0])\n",
    "\n",
    "        if current_offer_id != offer_id:\n",
    "            if num_offers % break_every == 0:\n",
    "                if offer_file is not None:\n",
    "                    offer_file.close()\n",
    "                offer_file = open(f'data/offers-{current_file_id:04}.csv', 'w', encoding='utf-8-sig')\n",
    "                writer = csv.writer(offer_file)\n",
    "                writer.writerow(headers)\n",
    "                current_file_id += 1\n",
    "            \n",
    "        writer.writerow(line)\n",
    "        \n",
    "        if current_offer_id != offer_id:\n",
    "            num_offers += 1\n",
    "        \n",
    "        \n",
    "        current_offer_id = offer_id\n",
    "        \n",
    "\n",
    "if offer_file is not None:\n",
    "    offer_file.close()\n",
    "\n",
    "print(num_offers)"
   ]
  },
  {
   "cell_type": "code",
   "execution_count": null,
   "metadata": {},
   "outputs": [],
   "source": [
    "training_data_df = pd.read_csv('data/i__training_data.csv')\n",
    "print(len(training_data_df))\n",
    "print(training_data_df.dtypes)\n",
    "print(training_data_df.head())"
   ]
  },
  {
   "cell_type": "code",
   "execution_count": null,
   "metadata": {},
   "outputs": [],
   "source": [
    "DTYPES= {\n",
    "    'offer_id':       np.int64,\n",
    "    'offer_len':      np.int64,\n",
    "    'token':         str,\n",
    "    'loc':            np.int64,\n",
    "    'pos':           str,\n",
    "    'pos_left':      str,\n",
    "    'pos_right':     str,\n",
    "    'token_len':      np.int64,\n",
    "    'all_upper':       bool,\n",
    "    'token_len':      np.int64,\n",
    "    'n_tokens':      np.int64,\n",
    "    'real_label':    str,\n",
    "}\n",
    "\n",
    "def load_training_data():\n",
    "    offer_files = sorted(glob('data/offers-*.csv'))\n",
    "    headers = None\n",
    "    records = []\n",
    "    for offer_file in offer_files:\n",
    "        with open(offer_file, 'r', encoding='utf-8-sig') as r:\n",
    "            reader = csv.reader(r)\n",
    "            headers = next(reader)\n",
    "            for l in reader:\n",
    "                records.append(l)\n",
    "    frame = pd.DataFrame(records, columns=headers).astype(DTYPES)\n",
    "    frame['real_label'] = frame['real_label'].replace('',np.nan)\n",
    "    return frame\n",
    "            \n",
    "training_pieces_data_df = load_training_data()"
   ]
  },
  {
   "cell_type": "code",
   "execution_count": null,
   "metadata": {},
   "outputs": [],
   "source": [
    "print(len(training_pieces_data_df))\n",
    "print(training_pieces_data_df.dtypes)\n",
    "print(training_pieces_data_df.head())"
   ]
  },
  {
   "cell_type": "code",
   "execution_count": null,
   "metadata": {},
   "outputs": [],
   "source": []
  }
 ],
 "metadata": {
  "kernelspec": {
   "display_name": "Python 3",
   "language": "python",
   "name": "python3"
  },
  "language_info": {
   "codemirror_mode": {
    "name": "ipython",
    "version": 3
   },
   "file_extension": ".py",
   "mimetype": "text/x-python",
   "name": "python",
   "nbconvert_exporter": "python",
   "pygments_lexer": "ipython3",
   "version": "3.6.5"
  }
 },
 "nbformat": 4,
 "nbformat_minor": 2
}
