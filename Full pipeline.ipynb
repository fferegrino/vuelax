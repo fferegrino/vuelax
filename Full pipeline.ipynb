{
 "cells": [
  {
   "cell_type": "code",
   "execution_count": null,
   "metadata": {},
   "outputs": [],
   "source": [
    "from features import SentenceProcessor\n",
    "from extractor import get_features\n",
    "from collections.abc import Sequence\n",
    "import pycrfsuite\n",
    "\n",
    "class VuelaXProcessor:\n",
    "    def __init__(self, tagger, jar, crf_model):\n",
    "        self._sentence_processor = SentenceProcessor(tagger, jar)\n",
    "        self._crf_tagger = pycrfsuite.Tagger()\n",
    "        _ = self._crf_tagger.open(crf_model)\n",
    "\n",
    "    def process_individual(self, sentence):\n",
    "        token_features = self._sentence_processor.process(sentence)\n",
    "        labels = self._crf_tagger.tag(get_features(token_features))\n",
    "        tokens = [t.token for t in token_features]\n",
    "        destination_tokens = []\n",
    "        origin_tokens = []\n",
    "        price = -1\n",
    "        for token, label in zip(tokens, labels):\n",
    "            if label == 'o':\n",
    "                origin_tokens.append(token)\n",
    "            elif label == 'd':\n",
    "                destination_tokens.append(token)\n",
    "            elif label == 'p':\n",
    "                price = float(token.replace(',',''))\n",
    "        return {\n",
    "            'origin': ' '.join(origin_tokens),\n",
    "            'destination': ' '.join(destination_tokens),\n",
    "            'price': price\n",
    "        }\n",
    "    \n",
    "    \n",
    "    def process(self, instance):\n",
    "        if isinstance(instance, Sequence):\n",
    "            for sentence in instance:\n",
    "                yield self.process_individual(sentence)\n",
    "        else:\n",
    "            return self.process_individual(instance)\n",
    "\n",
    "processor = VuelaXProcessor('tagger/spanish.tagger', 'tagger/stanford-postagger.jar', 'models/vuelax.crf')"
   ]
  },
  {
   "cell_type": "code",
   "execution_count": null,
   "metadata": {},
   "outputs": [],
   "source": [
    "res = processor.process(\n",
    "    [\n",
    "        '\u00a1CDMX a La Habana c/escala larga en Panam\u00e1 $4,129! ',\n",
    "        '\u00a1Todo M\u00e9xico a Venecia, Italia \u2013 $14,750! ',\n",
    "        '\u00a1CDMX, GDL, MTY, Silao, Tijuana, CUN y m\u00e1s a Helsinki, Finlandia \u2013 $13,131! (Por $4,015 agrega 8 noches de hospedaje)',\n",
    "        '\u00a1CDMX a Tuxtla Guti\u00e9rrez, Chiapas \u2013 $1,558! (Por $1,343 agrega 4 noches de hotel con desayunos, por $700 de hostal con desayunos)',\n",
    "        '\u00a1CDMX a Bogot\u00e1 + Santa Marta $6,013! Directos (Agrega 6 noches de hotel por $1,413)',\n",
    "        '\u00a1CDMX a Par\u00eds + Roma + Madrid + Berl\u00edn $13,261! Directos (Agrega 15 noches de hotel por $12,438)',\n",
    "        '\u00a1Silao y CDMX a Vallarta $597! (Por $1,592 agrega 3 noches de hotel, por $4,096 todo incluido)',\n",
    "    ])\n",
    "\n",
    "for r in res:\n",
    "    print(r)"
   ]
  },
  {
   "cell_type": "code",
   "execution_count": null,
   "metadata": {},
   "outputs": [],
   "source": []
  }
 ],
 "metadata": {
  "kernelspec": {
   "display_name": "Python 3",
   "language": "python",
   "name": "python3"
  },
  "language_info": {
   "codemirror_mode": {
    "name": "ipython",
    "version": 3
   },
   "file_extension": ".py",
   "mimetype": "text/x-python",
   "name": "python",
   "nbconvert_exporter": "python",
   "pygments_lexer": "ipython3",
   "version": "3.6.5"
  }
 },
 "nbformat": 4,
 "nbformat_minor": 1
}
