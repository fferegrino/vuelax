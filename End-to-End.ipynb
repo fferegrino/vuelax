{
 "cells": [
  {
   "cell_type": "code",
   "execution_count": null,
   "metadata": {},
   "outputs": [],
   "source": [
    "import json\n",
    "\n",
    "import pycrfsuite\n",
    "\n",
    "from extractor import get_features\n",
    "from features import SentenceProcessor\n"
   ]
  },
  {
   "cell_type": "markdown",
   "metadata": {},
   "source": [
    "# Preparing to predict"
   ]
  },
  {
   "cell_type": "markdown",
   "metadata": {},
   "source": [
    "## Loading the sentence chunker"
   ]
  },
  {
   "cell_type": "code",
   "execution_count": null,
   "metadata": {},
   "outputs": [],
   "source": [
    "sentence_processor = SentenceProcessor('tagger/spanish.tagger',\n",
    "                                       'tagger/stanford-postagger.jar')"
   ]
  },
  {
   "cell_type": "markdown",
   "metadata": {},
   "source": [
    "## Loading the estimator"
   ]
  },
  {
   "cell_type": "code",
   "execution_count": null,
   "metadata": {},
   "outputs": [],
   "source": [
    "crf_tagger = pycrfsuite.Tagger()\n",
    "_ = crf_tagger.open('models/vuelax.crf')"
   ]
  },
  {
   "cell_type": "markdown",
   "metadata": {},
   "source": [
    "## A function to load and identify the data"
   ]
  },
  {
   "cell_type": "code",
   "execution_count": null,
   "metadata": {},
   "outputs": [],
   "source": [
    "def label_data(sentence):\n",
    "    token_features = sentence_processor.process(sentence)\n",
    "    labels = crf_tagger.tag(get_features(token_features))\n",
    "    tokens = [t.token for t in token_features]\n",
    "    destination_tokens = []\n",
    "    origin_tokens = []\n",
    "    price = -1\n",
    "    for token, label in zip(tokens, labels):\n",
    "        if label == 'o':\n",
    "            origin_tokens.append(token)\n",
    "        elif label == 'd':\n",
    "            destination_tokens.append(token)\n",
    "        elif label == 'p':\n",
    "            price = float(token.replace(',',''))\n",
    "    return {\n",
    "        'origin': origin_tokens,\n",
    "        'destination': ' '.join(destination_tokens),\n",
    "        'price': price\n",
    "    }"
   ]
  },
  {
   "cell_type": "markdown",
   "metadata": {},
   "source": [
    "# Some predictions"
   ]
  },
  {
   "cell_type": "code",
   "execution_count": null,
   "metadata": {
    "scrolled": false
   },
   "outputs": [],
   "source": [
    "promotions = [\n",
    "    '\u00a1CDMX a Puerto Rico $4,220!',\n",
    "    '\u00a1CDMX, MTY y GDL a Belice \u2013 $1,841! (Agrega 8 noches de hotel por $2,524)',\n",
    "    '\u00a1CUN a Miami $2,902!',\n",
    "    '\u00a1CDMX a La Paz, Bolivia \u2013 $8,240! \ud83c\udde7\ud83c\uddf4 (Por $2,402 agrega 6 noches de hotel con desayunos)',\n",
    "    '\u00a1CDMX a Estocolmo, Suecia \u2013 $11,528! \ud83c\uddf8\ud83c\uddea (Por $3,975 agrega 6 noches en hotel-barco con desayunos',\n",
    "    '\u00a1NYC a Dubl\u00edn $4,615! Directos',\n",
    "    '\u00a1CDMX a Par\u00eds + Madrid $13,252! Directos',\n",
    "    '\u00a1TIJ a China + Rusia $12,242! Directos (Y agrega hotel 14 noches por $4,847)',\n",
    "    '\u00a1GDL a Denver $2.364! Y desde CDMX $3,054',\n",
    "]\n",
    "\n",
    "for promotion in promotions:\n",
    "    result = label_data(promotion)\n",
    "    print(promotion)\n",
    "    print(json.dumps(result, indent=4))\n",
    "    print()"
   ]
  },
  {
   "cell_type": "code",
   "execution_count": null,
   "metadata": {},
   "outputs": [],
   "source": []
  }
 ],
 "metadata": {
  "kernelspec": {
   "display_name": "Python 3",
   "language": "python",
   "name": "python3"
  },
  "language_info": {
   "codemirror_mode": {
    "name": "ipython",
    "version": 3
   },
   "file_extension": ".py",
   "mimetype": "text/x-python",
   "name": "python",
   "nbconvert_exporter": "python",
   "pygments_lexer": "ipython3",
   "version": "3.6.5"
  }
 },
 "nbformat": 4,
 "nbformat_minor": 2
}
