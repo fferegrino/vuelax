{
 "cells": [
  {
   "cell_type": "code",
   "execution_count": null,
   "metadata": {},
   "outputs": [],
   "source": [
    "import pandas as pd\n",
    "import numpy as np\n",
    "from m16_mlutils.pipeline import CategoryEncoder, DataFrameSelector\n",
    "from sklearn.pipeline import Pipeline, FeatureUnion\n",
    "from sklearn.preprocessing import FunctionTransformer\n",
    "from sklearn.preprocessing import MaxAbsScaler\n",
    "from sklearn.externals import joblib\n",
    "from sklearn.model_selection import train_test_split\n",
    "from m16_mlutils.datatools.evaluation import eval_summary\n",
    "\n",
    "from numpy.random import seed\n",
    "\n",
    "seed(42)\n",
    "\n",
    "import os\n",
    "\n",
    "HOME = os.getenv('HOME')\n",
    "\n",
    "from pipelines import IsPunctuation, RelativeLocations, Reshaper, SentenceChunker"
   ]
  },
  {
   "cell_type": "code",
   "execution_count": null,
   "metadata": {},
   "outputs": [],
   "source": [
    "chunker = SentenceChunker(HOME + '/stanford_nlp/stanford-postagger-full-2018-02-27/models/spanish-distsim.tagger',\n",
    "                HOME + '/stanford_nlp/stanford-postagger-full-2018-02-27/stanford-postagger.jar')\n",
    "\n",
    "df = chunker.transform(['\u00a1CDMX a Bahamas $8,722! (Agrega 7 noches de hotel por $7,203)'])"
   ]
  },
  {
   "cell_type": "code",
   "execution_count": null,
   "metadata": {},
   "outputs": [],
   "source": [
    "def get_pipeline():\n",
    "    pipeline = joblib.load('data/i__estimate_pipeline.joblib') \n",
    "    return pipeline\n",
    "\n",
    "classifier = get_pipeline()"
   ]
  },
  {
   "cell_type": "code",
   "execution_count": null,
   "metadata": {},
   "outputs": [],
   "source": [
    "labels = classifier.predict(df)\n",
    "df['labels'] = labels"
   ]
  },
  {
   "cell_type": "code",
   "execution_count": null,
   "metadata": {},
   "outputs": [],
   "source": [
    "def label_data(sentence):\n",
    "    df = chunker.transform([sentence])\n",
    "    labels = classifier.predict(df)\n",
    "    df['labels'] = labels\n",
    "    destination_tokens = []\n",
    "    origin_tokens = []\n",
    "    price = -1\n",
    "    for token, label in zip(df['token'].values, labels):\n",
    "        if label == 'o':\n",
    "            origin_tokens.append(token)\n",
    "        elif label == 'd':\n",
    "            destination_tokens.append(token)\n",
    "        elif label == 'p':\n",
    "            price = float(token.replace(',',''))\n",
    "    return {\n",
    "        'origin': ' '.join(origin_tokens),\n",
    "        'destination': ' '.join(destination_tokens),\n",
    "        'price': price\n",
    "    }\n",
    "\n",
    "label_data('\u00a1CDMX, MTY y GDL a Liberia, Costa Rica $2,458! (Por $2,683 agrega 7 noches de hotel)')"
   ]
  },
  {
   "cell_type": "code",
   "execution_count": null,
   "metadata": {},
   "outputs": [],
   "source": []
  }
 ],
 "metadata": {
  "kernelspec": {
   "display_name": "Python 3",
   "language": "python",
   "name": "python3"
  },
  "language_info": {
   "codemirror_mode": {
    "name": "ipython",
    "version": 3
   },
   "file_extension": ".py",
   "mimetype": "text/x-python",
   "name": "python",
   "nbconvert_exporter": "python",
   "pygments_lexer": "ipython3",
   "version": "3.7.0"
  }
 },
 "nbformat": 4,
 "nbformat_minor": 2
}
