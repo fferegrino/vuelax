{
 "cells": [
  {
   "cell_type": "code",
   "execution_count": null,
   "metadata": {},
   "outputs": [],
   "source": [
    "import pandas as pd\n",
    "import numpy as np\n",
    "from m16_mlutils.pipeline import CategoryEncoder, DataFrameSelector\n",
    "from sklearn.pipeline import Pipeline, FeatureUnion\n",
    "from sklearn.preprocessing import FunctionTransformer\n",
    "from sklearn.preprocessing import MaxAbsScaler\n",
    "from sklearn.externals import joblib\n",
    "from sklearn.base import BaseEstimator, TransformerMixin\n",
    "\n",
    "import os\n",
    "\n",
    "HOME = os.getenv('HOME')\n",
    "\n",
    "from pipelines import IsPunctuation, RelativeLocations, Reshaper, SentenceChunker"
   ]
  },
  {
   "cell_type": "code",
   "execution_count": null,
   "metadata": {},
   "outputs": [],
   "source": [
    "training_set = pd.read_csv('data/i__training_data.csv', \n",
    "                           header=None, index_col=None,\n",
    "                           names=['sentence_id', 'offer_len', 'token', 'loc', \n",
    "                                  'pos', 'pos_left', 'pos_right', \n",
    "                                  'token_len', 'all_upper', 'n_tokens', 'real_label'])\n",
    "training_set.head()\n",
    "test_set = training_set[pd.isna(training_set['real_label'])]\n",
    "training_set = training_set[~pd.isna(training_set['real_label'])]\n",
    "print(len(training_set))\n",
    "print(len(test_set))\n",
    "training_set.head()"
   ]
  },
  {
   "cell_type": "markdown",
   "metadata": {},
   "source": [
    "## Token Part-Of-the-Speech"
   ]
  },
  {
   "cell_type": "code",
   "execution_count": null,
   "metadata": {},
   "outputs": [],
   "source": [
    "pipeline_token_pos = Pipeline([\n",
    "    ('selector', DataFrameSelector(['pos'])),\n",
    "    ('encoder', CategoryEncoder())\n",
    "])"
   ]
  },
  {
   "cell_type": "markdown",
   "metadata": {},
   "source": [
    "## Is punctuation (more precise)"
   ]
  },
  {
   "cell_type": "code",
   "execution_count": null,
   "metadata": {},
   "outputs": [],
   "source": [
    "pipeline_is_punctuation = Pipeline([\n",
    "    ('selector', DataFrameSelector(['token'])),\n",
    "    ('is_punct', IsPunctuation())\n",
    "])"
   ]
  },
  {
   "cell_type": "markdown",
   "metadata": {},
   "source": [
    "##\u00a0Relative location"
   ]
  },
  {
   "cell_type": "code",
   "execution_count": null,
   "metadata": {},
   "outputs": [],
   "source": [
    "pipeline_relative_location = Pipeline([\n",
    "    ('location', RelativeLocations())\n",
    "])"
   ]
  },
  {
   "cell_type": "markdown",
   "metadata": {},
   "source": [
    "## Token length"
   ]
  },
  {
   "cell_type": "code",
   "execution_count": null,
   "metadata": {},
   "outputs": [],
   "source": [
    "pipeline_token_length = Pipeline([\n",
    "    ('selector', DataFrameSelector(['offer_len', 'token_len'])),\n",
    "    ('scaler', MaxAbsScaler())\n",
    "])"
   ]
  },
  {
   "cell_type": "markdown",
   "metadata": {},
   "source": [
    "## Unmodified features"
   ]
  },
  {
   "cell_type": "code",
   "execution_count": null,
   "metadata": {},
   "outputs": [],
   "source": [
    "pipeline_unmodified = Pipeline([\n",
    "    ('select', DataFrameSelector('all_upper')),\n",
    "    ('reshape', Reshaper())\n",
    "])"
   ]
  },
  {
   "cell_type": "markdown",
   "metadata": {},
   "source": [
    "# Joint pipelines"
   ]
  },
  {
   "cell_type": "code",
   "execution_count": null,
   "metadata": {},
   "outputs": [],
   "source": [
    "joint_pipeline = Pipeline([\n",
    "    ('get_features', FeatureUnion([\n",
    "        ('token_pos', pipeline_token_pos),\n",
    "        ('punctuation', pipeline_is_punctuation),\n",
    "        ('rel_loc', pipeline_relative_location),\n",
    "        ('token_length', pipeline_token_length),\n",
    "        ('original_features', pipeline_unmodified)\n",
    "    ]))\n",
    "])\n",
    "\n",
    "joblib.dump(joint_pipeline, 'data/i__pipeline.joblib') "
   ]
  },
  {
   "cell_type": "code",
   "execution_count": null,
   "metadata": {},
   "outputs": [],
   "source": [
    "transformed_training = joint_pipeline.fit_transform(training_set)\n",
    "print(\"Training shape\", transformed_training.shape)\n",
    "transformed_test = joint_pipeline.transform(test_set)\n",
    "print(\"Test shape\", transformed_test.shape)"
   ]
  }
 ],
 "metadata": {
  "kernelspec": {
   "display_name": "Python 3",
   "language": "python",
   "name": "python3"
  },
  "language_info": {
   "codemirror_mode": {
    "name": "ipython",
    "version": 3
   },
   "file_extension": ".py",
   "mimetype": "text/x-python",
   "name": "python",
   "nbconvert_exporter": "python",
   "pygments_lexer": "ipython3",
   "version": "3.6.5"
  }
 },
 "nbformat": 4,
 "nbformat_minor": 2
}
