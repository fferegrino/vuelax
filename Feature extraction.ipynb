{
 "cells": [
  {
   "cell_type": "code",
   "execution_count": 1,
   "metadata": {},
   "outputs": [],
   "source": [
    "import pandas as pd\n",
    "import numpy as np\n",
    "from m16_mlutils.pipeline import CategoryEncoder, DataFrameSelector\n",
    "from sklearn.pipeline import Pipeline, FeatureUnion\n",
    "from sklearn.preprocessing import FunctionTransformer\n",
    "from sklearn.preprocessing import MaxAbsScaler"
   ]
  },
  {
   "cell_type": "code",
   "execution_count": 2,
   "metadata": {},
   "outputs": [
    {
     "name": "stdout",
     "output_type": "stream",
     "text": [
      "381\n"
     ]
    },
    {
     "data": {
      "text/html": [
       "<div>\n",
       "<style scoped>\n",
       "    .dataframe tbody tr th:only-of-type {\n",
       "        vertical-align: middle;\n",
       "    }\n",
       "\n",
       "    .dataframe tbody tr th {\n",
       "        vertical-align: top;\n",
       "    }\n",
       "\n",
       "    .dataframe thead th {\n",
       "        text-align: right;\n",
       "    }\n",
       "</style>\n",
       "<table border=\"1\" class=\"dataframe\">\n",
       "  <thead>\n",
       "    <tr style=\"text-align: right;\">\n",
       "      <th></th>\n",
       "      <th>offer_id</th>\n",
       "      <th>offer_length</th>\n",
       "      <th>token</th>\n",
       "      <th>token_position</th>\n",
       "      <th>token_pos</th>\n",
       "      <th>token_length</th>\n",
       "      <th>upper</th>\n",
       "      <th>real_label</th>\n",
       "    </tr>\n",
       "  </thead>\n",
       "  <tbody>\n",
       "    <tr>\n",
       "      <th>0</th>\n",
       "      <td>0</td>\n",
       "      <td>44</td>\n",
       "      <td>¡</td>\n",
       "      <td>0</td>\n",
       "      <td>faa</td>\n",
       "      <td>1</td>\n",
       "      <td>False</td>\n",
       "      <td>n</td>\n",
       "    </tr>\n",
       "    <tr>\n",
       "      <th>1</th>\n",
       "      <td>0</td>\n",
       "      <td>44</td>\n",
       "      <td>CUN</td>\n",
       "      <td>1</td>\n",
       "      <td>pp000000</td>\n",
       "      <td>3</td>\n",
       "      <td>True</td>\n",
       "      <td>org</td>\n",
       "    </tr>\n",
       "    <tr>\n",
       "      <th>2</th>\n",
       "      <td>0</td>\n",
       "      <td>44</td>\n",
       "      <td>a</td>\n",
       "      <td>5</td>\n",
       "      <td>sp000</td>\n",
       "      <td>1</td>\n",
       "      <td>False</td>\n",
       "      <td>sep</td>\n",
       "    </tr>\n",
       "    <tr>\n",
       "      <th>3</th>\n",
       "      <td>0</td>\n",
       "      <td>44</td>\n",
       "      <td>Ámsterdam</td>\n",
       "      <td>7</td>\n",
       "      <td>np00000</td>\n",
       "      <td>9</td>\n",
       "      <td>False</td>\n",
       "      <td>dst</td>\n",
       "    </tr>\n",
       "    <tr>\n",
       "      <th>4</th>\n",
       "      <td>0</td>\n",
       "      <td>44</td>\n",
       "      <td>$</td>\n",
       "      <td>17</td>\n",
       "      <td>dn0000</td>\n",
       "      <td>1</td>\n",
       "      <td>False</td>\n",
       "      <td>n</td>\n",
       "    </tr>\n",
       "  </tbody>\n",
       "</table>\n",
       "</div>"
      ],
      "text/plain": [
       "   offer_id  offer_length      token  token_position token_pos  token_length  \\\n",
       "0         0            44          ¡               0       faa             1   \n",
       "1         0            44        CUN               1  pp000000             3   \n",
       "2         0            44          a               5     sp000             1   \n",
       "3         0            44  Ámsterdam               7   np00000             9   \n",
       "4         0            44          $              17    dn0000             1   \n",
       "\n",
       "   upper real_label  \n",
       "0  False          n  \n",
       "1   True        org  \n",
       "2  False        sep  \n",
       "3  False        dst  \n",
       "4  False          n  "
      ]
     },
     "execution_count": 2,
     "metadata": {},
     "output_type": "execute_result"
    }
   ],
   "source": [
    "training_set = pd.read_csv('data/i__training_data.csv', \n",
    "                           header=None, index_col=None,\n",
    "                           names=['offer_id', 'offer_length', 'token', 'token_position',\n",
    "                                  'token_pos', 'token_length', 'upper', 'real_label'])\n",
    "training_set.head()\n",
    "training_set = training_set[~pd.isna(training_set['real_label'])]\n",
    "print(len(training_set))\n",
    "training_set.head()"
   ]
  },
  {
   "cell_type": "markdown",
   "metadata": {},
   "source": [
    "## Token Part-Of-the-Speech"
   ]
  },
  {
   "cell_type": "code",
   "execution_count": 5,
   "metadata": {},
   "outputs": [],
   "source": [
    "pipeline_token_pos = Pipeline([\n",
    "    ('selector', DataFrameSelector(['token_pos'])),\n",
    "    ('encoder', CategoryEncoder())\n",
    "])"
   ]
  },
  {
   "cell_type": "markdown",
   "metadata": {},
   "source": [
    "## Is punctuation (more precise)"
   ]
  },
  {
   "cell_type": "code",
   "execution_count": 6,
   "metadata": {},
   "outputs": [],
   "source": [
    "import string\n",
    "\n",
    "punctuation = set(string.punctuation)\n",
    "\n",
    "def is_punct(tokens):\n",
    "    punct = [False] * len(tokens)\n",
    "    for i, t in enumerate(tokens):\n",
    "        punct[i] = t in punctuation\n",
    "    return np.array(punct).reshape(-1,1)\n",
    "\n",
    "pipeline_is_punctuation = Pipeline([\n",
    "    ('selector', DataFrameSelector(['token'])),\n",
    "    ('is_punct', FunctionTransformer(is_punct, validate=False))\n",
    "])"
   ]
  },
  {
   "cell_type": "markdown",
   "metadata": {},
   "source": [
    "## Relative location"
   ]
  },
  {
   "cell_type": "code",
   "execution_count": 16,
   "metadata": {},
   "outputs": [],
   "source": [
    "def get_relative_locations(frame):\n",
    "    return (frame['token_position']/frame['offer_length']).values.reshape(-1,1)\n",
    "\n",
    "pipeline_relative_location = Pipeline([\n",
    "    ('location', FunctionTransformer(get_relative_locations, validate=False))\n",
    "])"
   ]
  },
  {
   "cell_type": "markdown",
   "metadata": {},
   "source": [
    "## Token length"
   ]
  },
  {
   "cell_type": "code",
   "execution_count": 17,
   "metadata": {},
   "outputs": [],
   "source": [
    "pipeline_token_length = Pipeline([\n",
    "    ('selector', DataFrameSelector(['offer_length', 'token_length'])),\n",
    "    ('scaler', MaxAbsScaler())\n",
    "])"
   ]
  },
  {
   "cell_type": "markdown",
   "metadata": {},
   "source": [
    "## Unmodified features"
   ]
  },
  {
   "cell_type": "code",
   "execution_count": 24,
   "metadata": {},
   "outputs": [],
   "source": [
    "def reshape(data):\n",
    "    return data.values.reshape(-1,1)\n",
    "\n",
    "pipeline_unmodified = Pipeline([\n",
    "    ('select', DataFrameSelector('upper')),\n",
    "    ('reshape', FunctionTransformer(reshape, validate=False))\n",
    "])"
   ]
  },
  {
   "cell_type": "markdown",
   "metadata": {},
   "source": [
    "# Joint pipelines"
   ]
  },
  {
   "cell_type": "code",
   "execution_count": 25,
   "metadata": {},
   "outputs": [
    {
     "data": {
      "text/plain": [
       "(381, 15)"
      ]
     },
     "execution_count": 25,
     "metadata": {},
     "output_type": "execute_result"
    }
   ],
   "source": [
    "joint_pipeline = Pipeline([\n",
    "    ('get_features', FeatureUnion([\n",
    "        ('token_pos', pipeline_token_pos),\n",
    "        ('punctuation', pipeline_is_punctuation),\n",
    "        ('rel_loc', pipeline_relative_location),\n",
    "        ('token_length', pipeline_token_length),\n",
    "        ('original_features', pipeline_unmodified)\n",
    "    ]))\n",
    "])\n",
    "\n",
    "v = joint_pipeline.fit_transform(training_set)"
   ]
  },
  {
   "cell_type": "code",
   "execution_count": null,
   "metadata": {},
   "outputs": [],
   "source": []
  }
 ],
 "metadata": {
  "kernelspec": {
   "display_name": "Python 3",
   "language": "python",
   "name": "python3"
  },
  "language_info": {
   "codemirror_mode": {
    "name": "ipython",
    "version": 3
   },
   "file_extension": ".py",
   "mimetype": "text/x-python",
   "name": "python",
   "nbconvert_exporter": "python",
   "pygments_lexer": "ipython3",
   "version": "3.6.6"
  }
 },
 "nbformat": 4,
 "nbformat_minor": 2
}
